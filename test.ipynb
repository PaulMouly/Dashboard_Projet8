{
 "cells": [
  {
   "cell_type": "code",
   "execution_count": 1,
   "metadata": {},
   "outputs": [],
   "source": [
    "import pandas as pd"
   ]
  },
  {
   "cell_type": "code",
   "execution_count": 2,
   "metadata": {},
   "outputs": [],
   "source": [
    "# Charger le fichier CSV\n",
    "df = pd.read_csv('API/data/X_predictionV1.csv')"
   ]
  },
  {
   "cell_type": "code",
   "execution_count": 4,
   "metadata": {},
   "outputs": [
    {
     "name": "stdout",
     "output_type": "stream",
     "text": [
      "Colonnes manquantes : ['CODE_GENDER_F', 'NAME_INCOME_TYPE_Pensioner', 'NAME_EDUCATION_TYPE_Higher education', 'NAME_INCOME_TYPE_Working', 'WALLSMATERIAL_MODE_Panel', 'CODE_GENDER_M', 'NAME_EDUCATION_TYPE_Secondary / secondary special', 'FLAG_OWN_CAR_N', 'NAME_FAMILY_STATUS_Married']\n"
     ]
    }
   ],
   "source": [
    "# Liste des colonnes les plus importantes\n",
    "colonnes_importantes = [\n",
    "    'EXT_SOURCE_3',\n",
    "    'EXT_SOURCE_2',\n",
    "    'CODE_GENDER_F',\n",
    "    'NAME_INCOME_TYPE_Pensioner',\n",
    "    'NAME_EDUCATION_TYPE_Higher education',\n",
    "    'NAME_INCOME_TYPE_Working',\n",
    "    'WALLSMATERIAL_MODE_Panel',\n",
    "    'CC_CNT_DRAWINGS_ATM_CURRENT_MEAN',\n",
    "    'FLAG_DOCUMENT_3',\n",
    "    'CODE_GENDER_M',\n",
    "    'CC_CNT_DRAWINGS_CURRENT_MEAN',\n",
    "    'EXT_SOURCE_1',\n",
    "    'NAME_EDUCATION_TYPE_Secondary / secondary special',\n",
    "    'INSTAL_AMT_PAYMENT_SUM',\n",
    "    'CC_AMT_DRAWINGS_CURRENT_MEAN',\n",
    "    'PREV_DAYS_FIRST_DRAWING_MAX',\n",
    "    'INSTAL_PAYMENT_PERC_MEAN',\n",
    "    'FLAG_OWN_CAR_N',\n",
    "    'REG_CITY_NOT_LIVE_CITY',\n",
    "    'NAME_FAMILY_STATUS_Married'\n",
    "]\n",
    "\n",
    "# Vérification des colonnes dans le DataFrame\n",
    "colonnes_manquantes = [col for col in colonnes_importantes if col not in df.columns]\n",
    "\n",
    "# Affichage des colonnes manquantes\n",
    "if colonnes_manquantes:\n",
    "    print(\"Colonnes manquantes :\", colonnes_manquantes)\n",
    "else:\n",
    "    print(\"Toutes les colonnes importantes sont présentes dans le DataFrame.\")\n"
   ]
  }
 ],
 "metadata": {
  "kernelspec": {
   "display_name": "Python 3",
   "language": "python",
   "name": "python3"
  },
  "language_info": {
   "codemirror_mode": {
    "name": "ipython",
    "version": 3
   },
   "file_extension": ".py",
   "mimetype": "text/x-python",
   "name": "python",
   "nbconvert_exporter": "python",
   "pygments_lexer": "ipython3",
   "version": "3.12.4"
  }
 },
 "nbformat": 4,
 "nbformat_minor": 2
}
